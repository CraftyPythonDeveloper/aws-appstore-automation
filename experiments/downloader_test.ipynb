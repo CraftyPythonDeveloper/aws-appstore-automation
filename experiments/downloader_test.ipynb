{
 "cells": [
  {
   "cell_type": "code",
   "execution_count": 11,
   "id": "initial_id",
   "metadata": {
    "collapsed": true,
    "ExecuteTime": {
     "end_time": "2024-02-04T13:36:03.352261100Z",
     "start_time": "2024-02-04T13:36:03.191627700Z"
    }
   },
   "outputs": [],
   "source": [
    "import re\n",
    "\n",
    "import requests\n",
    "from bs4 import BeautifulSoup\n",
    "from selenium.webdriver import Chrome\n",
    "from pypdl import Downloader\n",
    "from urllib.parse import parse_qsl"
   ]
  },
  {
   "cell_type": "code",
   "outputs": [],
   "source": [
    "play_url = \"https://play.google.com/store/apps/details?id=com.zhiliaoapp.musically\""
   ],
   "metadata": {
    "collapsed": false,
    "ExecuteTime": {
     "end_time": "2024-02-04T13:36:03.590462Z",
     "start_time": "2024-02-04T13:36:03.572510900Z"
    }
   },
   "id": "8aecbadb15dec165",
   "execution_count": 12
  },
  {
   "cell_type": "code",
   "outputs": [],
   "source": [
    "d = Downloader()\n",
    "driver = Chrome()\n",
    "driver.maximize_window()"
   ],
   "metadata": {
    "collapsed": false,
    "ExecuteTime": {
     "end_time": "2024-02-04T13:36:06.317911200Z",
     "start_time": "2024-02-04T13:36:04.090746800Z"
    }
   },
   "id": "5c30ab493e2acf0a",
   "execution_count": 13
  },
  {
   "cell_type": "code",
   "outputs": [],
   "source": [
    "def get_package_name(google_play_url):\n",
    "    # example url https://play.google.com/store/apps/details?id=com.google.android.apps.photosgo\n",
    "    return parse_qsl(google_play_url)[0][1]"
   ],
   "metadata": {
    "collapsed": false,
    "ExecuteTime": {
     "end_time": "2024-02-04T13:36:06.339852900Z",
     "start_time": "2024-02-04T13:36:06.324893100Z"
    }
   },
   "id": "8d45c6ba56dca6da",
   "execution_count": 14
  },
  {
   "cell_type": "code",
   "outputs": [],
   "source": [
    "def get_screenshots(driver, package_name):\n",
    "    url = f\"https://apkcombo.com/search?q={package_name}\"\n",
    "    driver.get(url)\n",
    "    \n",
    "    \n",
    "    soup = BeautifulSoup(driver.page_source, \"html.parser\")\n",
    "    try:\n",
    "        app_name = soup.find(\"div\", {\"class\": \"app_name\"}).text\n",
    "        urls = []\n",
    "        for url_soup in soup.find(\"div\", {\"id\": \"gallery-screenshots\"}).find_all(\"a\"):\n",
    "            urls.append(url_soup.get(\"href\"))\n",
    "            \n",
    "        download_url = \n",
    "        return app_name, urls\n",
    "    except AttributeError:\n",
    "        print(\"No app name found\")\n",
    "        return False"
   ],
   "metadata": {
    "collapsed": false,
    "ExecuteTime": {
     "end_time": "2024-02-04T13:42:20.250669800Z",
     "start_time": "2024-02-04T13:42:20.236707100Z"
    }
   },
   "id": "204e6de8d6db2967",
   "execution_count": 20
  },
  {
   "cell_type": "code",
   "outputs": [
    {
     "data": {
      "text/plain": "('Gallery',\n ['https://play-lh.googleusercontent.com/IvL1Y_oDYHAdKvPEUpwk4NbIFdtMtOqltmgh10Y5DjmtefHwFoXgKzw8HZZVzjqU1fk=w1024-h768-rw',\n  'https://play-lh.googleusercontent.com/awhwVd1gWUx-7IgFq1ofBa5kTYmTwC-X6o9yXsXV-Uer-K-jDPG_F-VEkl1gNE0dVps=w1024-h768-rw',\n  'https://play-lh.googleusercontent.com/Jru7R3BDQlrjpfOJGvDAxxeXujB0B4M7ltrfslwlh2VCwSBicPbr5j5Cqyoiy0Zs-6w=w1024-h768-rw',\n  'https://play-lh.googleusercontent.com/C9w6JlYk1wRSBrNM6VPe0y0cYg_ZXlLccI5kAfNH9qzBcazCLbrFUMJt3DphDO2LNg8=w1024-h768-rw',\n  'https://play-lh.googleusercontent.com/X5vP9HmTwiEL2i0f9R_olVDPlrEaa00jS_vUn1dhx3cCz_rjU633yu7--xw8ZUpwzSlT=w1024-h768-rw'])"
     },
     "execution_count": 21,
     "metadata": {},
     "output_type": "execute_result"
    }
   ],
   "source": [
    "get_screenshots(driver, \"com.google.android.apps.photosgo\")"
   ],
   "metadata": {
    "collapsed": false,
    "ExecuteTime": {
     "end_time": "2024-02-04T13:42:26.837647Z",
     "start_time": "2024-02-04T13:42:20.467511Z"
    }
   },
   "id": "742b0ce6361dc729",
   "execution_count": 21
  },
  {
   "cell_type": "code",
   "outputs": [],
   "source": [
    "play_urls = \"\"\"https://play.google.com/store/apps/details?id=com.toka.town.life.world.avatar.toca.boca.miga.toga.tira.my.world\n",
    "https://play.google.com/store/apps/details?id=com.Avatar.World.City.Life.tira.town.miga.toca.boca.Avitar\n",
    "https://play.google.com/store/apps/details?id=com.toka.town.life.world.avatar.toca.boca.miga.toga.tira.my.world.castle\n",
    "https://play.google.com/store/apps/details?id=com.anime.sakura.school.simulator.life.love.games\n",
    "https://play.google.com/store/apps/details?id=com.stair.run.bridge.race.bridgeway.game\n",
    "https://play.google.com/store/apps/details?id=com.diy.bubble.tea.tapioca.recipe.tasty\n",
    "https://play.google.com/store/apps/details?id=com.antistress.relaxing.games.stress.puppet\n",
    "https://play.google.com/store/apps/details?id=com.adnime.vlinder.princesss.dress.up.fashion.everskies.girl.games\n",
    "https://play.google.com/store/apps/details?id=com.love.nikki.adnime.dress.up.simulator.games\n",
    "https://play.google.com/store/apps/details?id=com.happy.township.farming.free.games\n",
    "https://play.google.com/store/apps/details?id=com.toka.hair.salon.makeup.games\n",
    "https://play.google.com/store/apps/details?id=com.ldle.market.tycoon.shopcooking\n",
    "https://play.google.com/store/apps/details?id=com.pranks.blastet.neaf.epic.game\n",
    "https://play.google.com/store/apps/details?id=com.anime.fashion.princess.girl.dress.up\n",
    "https://play.google.com/store/apps/details?id=com.world.war.mission.strikes.offline.game\"\"\".split(\"\\n\")"
   ],
   "metadata": {
    "collapsed": false,
    "ExecuteTime": {
     "end_time": "2024-02-04T13:42:26.899481100Z",
     "start_time": "2024-02-04T13:42:26.845628600Z"
    }
   },
   "id": "d4cfc34333786f17",
   "execution_count": 22
  },
  {
   "cell_type": "code",
   "outputs": [
    {
     "name": "stdout",
     "output_type": "stream",
     "text": [
      "No app name found\n"
     ]
    }
   ],
   "source": [
    "data = {}\n",
    "for i in play_urls:\n",
    "    package_name = get_package_name(i)\n",
    "    screenshots = get_screenshots(driver, package_name)\n",
    "    if not screenshots:\n",
    "        continue\n",
    "    data[screenshots[0]] = screenshots[1]"
   ],
   "metadata": {
    "collapsed": false,
    "ExecuteTime": {
     "end_time": "2024-02-04T13:45:09.957071Z",
     "start_time": "2024-02-04T13:44:26.989730Z"
    }
   },
   "id": "105dc280e46c657f",
   "execution_count": 26
  },
  {
   "cell_type": "code",
   "outputs": [],
   "source": [
    "def get_play_screenshots(play_url):\n",
    "    response = requests.get(play_url)\n",
    "    soup = BeautifulSoup(response.text, \"html.parser\")\n",
    "    try:\n",
    "        name = soup.find(\"h1\", {\"itemprop\": \"name\"}).text\n",
    "        urls = dict()\n",
    "        for url_soup in soup.find(\"div\", {\"jsname\": \"K9a4Re\"}).find_all(\"img\"):\n",
    "            urls[f\"Screenshot {len(urls)}.png\"] = url_soup.get(\"src\").split(\"=\")[0]\n",
    "        return name, urls\n",
    "    except AttributeError:\n",
    "        return False"
   ],
   "metadata": {
    "collapsed": false,
    "ExecuteTime": {
     "end_time": "2024-02-04T14:09:44.540606700Z",
     "start_time": "2024-02-04T14:09:44.508691200Z"
    }
   },
   "id": "23b1d464bad8bce2",
   "execution_count": 48
  },
  {
   "cell_type": "code",
   "outputs": [],
   "source": [
    "data = {}\n",
    "for i in play_urls:\n",
    "    # package_name = get_package_name(i)\n",
    "    screenshots = get_play_screenshots(i)\n",
    "    if not screenshots:\n",
    "        continue\n",
    "    data[screenshots[0]] = screenshots[1]"
   ],
   "metadata": {
    "collapsed": false,
    "ExecuteTime": {
     "end_time": "2024-02-04T13:56:30.620154200Z",
     "start_time": "2024-02-04T13:56:10.676906800Z"
    }
   },
   "id": "92ae14add9e2ff6",
   "execution_count": 43
  },
  {
   "cell_type": "code",
   "outputs": [],
   "source": [
    "import os\n",
    "from requests.exceptions import ChunkedEncodingError, ConnectionError\n",
    "\n",
    "\n",
    "headers = {\n",
    "    \"User-Agent\": \"Mozilla/5.0 (Windows NT 10.0; Win64; x64) AppleWebKit/537.36 (KHTML, like Gecko) \"\n",
    "                  \"Chrome/89.0.4389.114 Safari/537.36\",\n",
    "    \"referer\": 'https://apkcombo.com/'\n",
    "}\n",
    "\n",
    "def download_n_save(url, filename, save_path_dir, retry=0):\n",
    "    # logger.debug(f\"downloading {url}\")\n",
    "    print(\"downloading {} to {}\".format(url, filename))\n",
    "    filepath = os.path.join(save_path_dir, filename)\n",
    "\n",
    "    with requests.get(url, stream=True, allow_redirects=True, headers=headers) as req:\n",
    "        if not req.ok:\n",
    "            # logger.error(f\"unable to download {filename} file..\")\n",
    "            req.raise_for_status()\n",
    "        try:\n",
    "            with open(filepath, \"wb\") as fp:\n",
    "                for data in req.iter_content(chunk_size=8192):\n",
    "                    fp.write(data)\n",
    "        except ChunkedEncodingError as e:\n",
    "            if retry > 3:\n",
    "                os.remove(filepath)\n",
    "                # logger.debug(f\"unable to download from {url} after retrying 3 times.\")\n",
    "                return \"\"\n",
    "            # logger.debug(f\"Failed to get data from {url}, retrying {retry+1} time\")\n",
    "            download_n_save(url, filename, save_path_dir, retry=retry+1)\n",
    "    return filepath\n"
   ],
   "metadata": {
    "collapsed": false,
    "ExecuteTime": {
     "end_time": "2024-02-04T14:00:56.814133500Z",
     "start_time": "2024-02-04T14:00:56.810143900Z"
    }
   },
   "id": "ee7491c60b8724e1",
   "execution_count": 45
  },
  {
   "cell_type": "code",
   "outputs": [
    {
     "name": "stdout",
     "output_type": "stream",
     "text": [
      "MY Town Life World\n",
      "downloading https://play-lh.googleusercontent.com/6dmnRhY-IbHPeT201KqkLyUoxgIGkf-4jIuGpg_MAcVVk_fOxLwbcwXrF801LVkRDWM=w526-h296 to screenshots MY Town Life World 0.png\n",
      "downloading https://play-lh.googleusercontent.com/igxqHXnkE5yG2IgY_vfq_eitBTOQ0v7PaP4TTYgmipZGOVgxN0HNHwWy7dt0HocT2lc=w526-h296 to screenshots MY Town Life World 1.png\n",
      "downloading https://play-lh.googleusercontent.com/OdXmyDSW_Pwb9Bk2A5zzzPHqYjkahaE6mEXDY6Ut2fTOEMKukfAnnsFed5G11GEwbw=w526-h296 to screenshots MY Town Life World 2.png\n",
      "downloading https://play-lh.googleusercontent.com/EDOeVLTTZQY9VB3p_TDavc-dIaGAshusqBz8tyqnCiSGZhgmR9HwJmV5u47b-02VOg=w526-h296 to screenshots MY Town Life World 3.png\n",
      "downloading https://play-lh.googleusercontent.com/ECDuwA_9yVOGS4HYFiZCYsiMAwKJLLPYFKwWMvkvNcUELuOzHnfaaHwD3Mo5YTrMqKE=w526-h296 to screenshots MY Town Life World 4.png\n",
      "downloading https://play-lh.googleusercontent.com/XdgGQlMWw_-HpH4MAejMYSeiPzKjB3hEDKjG3VxLeItJu6e6b6hBPmLtIySsY3NTjA=w526-h296 to screenshots MY Town Life World 5.png\n",
      "downloading https://play-lh.googleusercontent.com/RPhmoVHK0acDuvsLuxoGd2cdo8G3kl6LNFME49yGN6cQ32BivhVJmmRp5rbGyM8AZ3dJ=w526-h296 to screenshots MY Town Life World 6.png\n",
      "downloading https://play-lh.googleusercontent.com/c824Peq61nzdnKOk9vqP__VCFPxrWbKhLgeNq2KUDF2UstRDGb0WJXeT-S4pOCNRaO0=w526-h296 to screenshots MY Town Life World 7.png\n",
      "downloading https://play-lh.googleusercontent.com/DcknaETG7tS_OEuNmofa5RTNtzrkEaJ5Oqvn3lkM6muPx-KEMMxsa7efeMxOnKC_GA=w526-h296 to screenshots MY Town Life World 8.png\n",
      "downloading https://play-lh.googleusercontent.com/iH7B3bayfoqu5U8EiHsw0_RL0cWNJyG9F10aOscgwuMJO2uresogcmFJ0uZQ4K4kFhY=w526-h296 to screenshots MY Town Life World 9.png\n",
      "downloading https://play-lh.googleusercontent.com/FmcPcM4s8d_cTQcDZFdbMS4GR7TrEzuIdcWF_vgQs3TRwZ5GJUw4CmvHT_LYpZ6kI54f=w526-h296 to screenshots MY Town Life World 10.png\n",
      "downloading https://play-lh.googleusercontent.com/waz2RA1vQ0SuXzWIrXW1eukm4sE4aEZjymv84nKTSif3tTmaRaxU1yettwnvP-3DeFGe=w526-h296 to screenshots MY Town Life World 11.png\n",
      "downloading https://play-lh.googleusercontent.com/UN7ThQOplr0VhFvG-4405jUNJbvvPn4JU1BOYghsSlho7-pGiAaMuPvyxqQxQL4FLw=w526-h296 to screenshots MY Town Life World 12.png\n",
      "downloading https://play-lh.googleusercontent.com/6TG3bYVMlKb7bFJ8LuvHTezkCdq1hMKBlzjtxoSdzn0OUgUboDR2afAfdVBXErAjqt4=w526-h296 to screenshots MY Town Life World 13.png\n",
      "downloading https://play-lh.googleusercontent.com/doU6RFN9b8bX8uxbBOgDOOovO3GntuFHAtpVhaJW8rmIJaAfkr6Bkcl0Jayn_Gws6EY=w526-h296 to screenshots MY Town Life World 14.png\n",
      "downloading https://play-lh.googleusercontent.com/mTIl1bc2yOYm2UnoPGCuy8SpPpytnbWgkI4D3lGV0I1qtg8rA2zYk54L8vQPp2qm2MM=w526-h296 to screenshots MY Town Life World 15.png\n",
      "downloading https://play-lh.googleusercontent.com/ouvJfZsWsXHu0bD0So0vaAetWbqc6t71s3InVLVH-595gD1AQJO8xtsHZv3NyDxCz7fq=w526-h296 to screenshots MY Town Life World 16.png\n",
      "downloading https://play-lh.googleusercontent.com/S2751QkuvFWUTM7YSRi5HwnG6J64eHgDPpr9j6MYhsTbn4mJPb7jEFYN7BQ9uOhHGQ=w526-h296 to screenshots MY Town Life World 17.png\n",
      "downloading https://play-lh.googleusercontent.com/arCM4Jauj6IS3xUS44UdzgOJAYda-HKr1VGUyLmCOcdEu7Zdfjb_PyXNUcd0MwwJ9hI=w526-h296 to screenshots MY Town Life World 18.png\n",
      "downloading https://play-lh.googleusercontent.com/8tqlV_4-ZzCxLz8EHpRdCPkUcCSTSLmrMypoJ3F-o-kSn4PrzhOu6KaISduqM9QzlQI=w526-h296 to screenshots MY Town Life World 19.png\n",
      "MY Town Life World Castle\n",
      "downloading https://play-lh.googleusercontent.com/zgXD_U1ba-6GVKB0Vf3G3iRPHw-IlKxHL5sJX0uEE11eWcjgeczXUyN77s09H1TfyF0M=w526-h296 to screenshots MY Town Life World Castle 0.png\n"
     ]
    },
    {
     "ename": "KeyboardInterrupt",
     "evalue": "",
     "output_type": "error",
     "traceback": [
      "\u001B[1;31m---------------------------------------------------------------------------\u001B[0m",
      "\u001B[1;31mKeyboardInterrupt\u001B[0m                         Traceback (most recent call last)",
      "Cell \u001B[1;32mIn[47], line 4\u001B[0m\n\u001B[0;32m      2\u001B[0m \u001B[38;5;28mprint\u001B[39m(apk_name)\n\u001B[0;32m      3\u001B[0m \u001B[38;5;28;01mfor\u001B[39;00m i, url \u001B[38;5;129;01min\u001B[39;00m \u001B[38;5;28menumerate\u001B[39m(data[apk_name]):\n\u001B[1;32m----> 4\u001B[0m     \u001B[43mdownload_n_save\u001B[49m\u001B[43m(\u001B[49m\u001B[43murl\u001B[49m\u001B[43m,\u001B[49m\u001B[43m \u001B[49m\u001B[38;5;124;43mf\u001B[39;49m\u001B[38;5;124;43m'\u001B[39;49m\u001B[38;5;124;43mscreenshots \u001B[39;49m\u001B[38;5;132;43;01m{\u001B[39;49;00m\u001B[43mapk_name\u001B[49m\u001B[38;5;132;43;01m}\u001B[39;49;00m\u001B[38;5;124;43m \u001B[39;49m\u001B[38;5;132;43;01m{\u001B[39;49;00m\u001B[43mi\u001B[49m\u001B[38;5;132;43;01m}\u001B[39;49;00m\u001B[38;5;124;43m.png\u001B[39;49m\u001B[38;5;124;43m'\u001B[39;49m\u001B[43m,\u001B[49m\u001B[43m \u001B[49m\u001B[38;5;124;43mr\u001B[39;49m\u001B[38;5;124;43m\"\u001B[39;49m\u001B[38;5;124;43mC:\u001B[39;49m\u001B[38;5;124;43m\\\u001B[39;49m\u001B[38;5;124;43mUsers\u001B[39;49m\u001B[38;5;124;43m\\\u001B[39;49m\u001B[38;5;124;43mAnon\u001B[39;49m\u001B[38;5;124;43m\\\u001B[39;49m\u001B[38;5;124;43mDownloads\u001B[39;49m\u001B[38;5;124;43m\\\u001B[39;49m\u001B[38;5;124;43ma\u001B[39;49m\u001B[38;5;124;43m\"\u001B[39;49m\u001B[43m)\u001B[49m\n",
      "Cell \u001B[1;32mIn[45], line 16\u001B[0m, in \u001B[0;36mdownload_n_save\u001B[1;34m(url, filename, save_path_dir, retry)\u001B[0m\n\u001B[0;32m     13\u001B[0m \u001B[38;5;28mprint\u001B[39m(\u001B[38;5;124m\"\u001B[39m\u001B[38;5;124mdownloading \u001B[39m\u001B[38;5;132;01m{}\u001B[39;00m\u001B[38;5;124m to \u001B[39m\u001B[38;5;132;01m{}\u001B[39;00m\u001B[38;5;124m\"\u001B[39m\u001B[38;5;241m.\u001B[39mformat(url, filename))\n\u001B[0;32m     14\u001B[0m filepath \u001B[38;5;241m=\u001B[39m os\u001B[38;5;241m.\u001B[39mpath\u001B[38;5;241m.\u001B[39mjoin(save_path_dir, filename)\n\u001B[1;32m---> 16\u001B[0m \u001B[38;5;28;01mwith\u001B[39;00m \u001B[43mrequests\u001B[49m\u001B[38;5;241;43m.\u001B[39;49m\u001B[43mget\u001B[49m\u001B[43m(\u001B[49m\u001B[43murl\u001B[49m\u001B[43m,\u001B[49m\u001B[43m \u001B[49m\u001B[43mstream\u001B[49m\u001B[38;5;241;43m=\u001B[39;49m\u001B[38;5;28;43;01mTrue\u001B[39;49;00m\u001B[43m,\u001B[49m\u001B[43m \u001B[49m\u001B[43mallow_redirects\u001B[49m\u001B[38;5;241;43m=\u001B[39;49m\u001B[38;5;28;43;01mTrue\u001B[39;49;00m\u001B[43m,\u001B[49m\u001B[43m \u001B[49m\u001B[43mheaders\u001B[49m\u001B[38;5;241;43m=\u001B[39;49m\u001B[43mheaders\u001B[49m\u001B[43m)\u001B[49m \u001B[38;5;28;01mas\u001B[39;00m req:\n\u001B[0;32m     17\u001B[0m     \u001B[38;5;28;01mif\u001B[39;00m \u001B[38;5;129;01mnot\u001B[39;00m req\u001B[38;5;241m.\u001B[39mok:\n\u001B[0;32m     18\u001B[0m         \u001B[38;5;66;03m# logger.error(f\"unable to download {filename} file..\")\u001B[39;00m\n\u001B[0;32m     19\u001B[0m         req\u001B[38;5;241m.\u001B[39mraise_for_status()\n",
      "File \u001B[1;32mC:\\ProgramData\\Anaconda3\\envs\\aws_appstore_automation\\lib\\site-packages\\requests\\api.py:73\u001B[0m, in \u001B[0;36mget\u001B[1;34m(url, params, **kwargs)\u001B[0m\n\u001B[0;32m     62\u001B[0m \u001B[38;5;28;01mdef\u001B[39;00m \u001B[38;5;21mget\u001B[39m(url, params\u001B[38;5;241m=\u001B[39m\u001B[38;5;28;01mNone\u001B[39;00m, \u001B[38;5;241m*\u001B[39m\u001B[38;5;241m*\u001B[39mkwargs):\n\u001B[0;32m     63\u001B[0m \u001B[38;5;250m    \u001B[39m\u001B[38;5;124mr\u001B[39m\u001B[38;5;124;03m\"\"\"Sends a GET request.\u001B[39;00m\n\u001B[0;32m     64\u001B[0m \n\u001B[0;32m     65\u001B[0m \u001B[38;5;124;03m    :param url: URL for the new :class:`Request` object.\u001B[39;00m\n\u001B[1;32m   (...)\u001B[0m\n\u001B[0;32m     70\u001B[0m \u001B[38;5;124;03m    :rtype: requests.Response\u001B[39;00m\n\u001B[0;32m     71\u001B[0m \u001B[38;5;124;03m    \"\"\"\u001B[39;00m\n\u001B[1;32m---> 73\u001B[0m     \u001B[38;5;28;01mreturn\u001B[39;00m request(\u001B[38;5;124m\"\u001B[39m\u001B[38;5;124mget\u001B[39m\u001B[38;5;124m\"\u001B[39m, url, params\u001B[38;5;241m=\u001B[39mparams, \u001B[38;5;241m*\u001B[39m\u001B[38;5;241m*\u001B[39mkwargs)\n",
      "File \u001B[1;32mC:\\ProgramData\\Anaconda3\\envs\\aws_appstore_automation\\lib\\site-packages\\requests\\api.py:59\u001B[0m, in \u001B[0;36mrequest\u001B[1;34m(method, url, **kwargs)\u001B[0m\n\u001B[0;32m     55\u001B[0m \u001B[38;5;66;03m# By using the 'with' statement we are sure the session is closed, thus we\u001B[39;00m\n\u001B[0;32m     56\u001B[0m \u001B[38;5;66;03m# avoid leaving sockets open which can trigger a ResourceWarning in some\u001B[39;00m\n\u001B[0;32m     57\u001B[0m \u001B[38;5;66;03m# cases, and look like a memory leak in others.\u001B[39;00m\n\u001B[0;32m     58\u001B[0m \u001B[38;5;28;01mwith\u001B[39;00m sessions\u001B[38;5;241m.\u001B[39mSession() \u001B[38;5;28;01mas\u001B[39;00m session:\n\u001B[1;32m---> 59\u001B[0m     \u001B[38;5;28;01mreturn\u001B[39;00m session\u001B[38;5;241m.\u001B[39mrequest(method\u001B[38;5;241m=\u001B[39mmethod, url\u001B[38;5;241m=\u001B[39murl, \u001B[38;5;241m*\u001B[39m\u001B[38;5;241m*\u001B[39mkwargs)\n",
      "File \u001B[1;32mC:\\ProgramData\\Anaconda3\\envs\\aws_appstore_automation\\lib\\site-packages\\requests\\sessions.py:589\u001B[0m, in \u001B[0;36mSession.request\u001B[1;34m(self, method, url, params, data, headers, cookies, files, auth, timeout, allow_redirects, proxies, hooks, stream, verify, cert, json)\u001B[0m\n\u001B[0;32m    584\u001B[0m send_kwargs \u001B[38;5;241m=\u001B[39m {\n\u001B[0;32m    585\u001B[0m     \u001B[38;5;124m\"\u001B[39m\u001B[38;5;124mtimeout\u001B[39m\u001B[38;5;124m\"\u001B[39m: timeout,\n\u001B[0;32m    586\u001B[0m     \u001B[38;5;124m\"\u001B[39m\u001B[38;5;124mallow_redirects\u001B[39m\u001B[38;5;124m\"\u001B[39m: allow_redirects,\n\u001B[0;32m    587\u001B[0m }\n\u001B[0;32m    588\u001B[0m send_kwargs\u001B[38;5;241m.\u001B[39mupdate(settings)\n\u001B[1;32m--> 589\u001B[0m resp \u001B[38;5;241m=\u001B[39m \u001B[38;5;28mself\u001B[39m\u001B[38;5;241m.\u001B[39msend(prep, \u001B[38;5;241m*\u001B[39m\u001B[38;5;241m*\u001B[39msend_kwargs)\n\u001B[0;32m    591\u001B[0m \u001B[38;5;28;01mreturn\u001B[39;00m resp\n",
      "File \u001B[1;32mC:\\ProgramData\\Anaconda3\\envs\\aws_appstore_automation\\lib\\site-packages\\requests\\sessions.py:703\u001B[0m, in \u001B[0;36mSession.send\u001B[1;34m(self, request, **kwargs)\u001B[0m\n\u001B[0;32m    700\u001B[0m start \u001B[38;5;241m=\u001B[39m preferred_clock()\n\u001B[0;32m    702\u001B[0m \u001B[38;5;66;03m# Send the request\u001B[39;00m\n\u001B[1;32m--> 703\u001B[0m r \u001B[38;5;241m=\u001B[39m adapter\u001B[38;5;241m.\u001B[39msend(request, \u001B[38;5;241m*\u001B[39m\u001B[38;5;241m*\u001B[39mkwargs)\n\u001B[0;32m    705\u001B[0m \u001B[38;5;66;03m# Total elapsed time of the request (approximately)\u001B[39;00m\n\u001B[0;32m    706\u001B[0m elapsed \u001B[38;5;241m=\u001B[39m preferred_clock() \u001B[38;5;241m-\u001B[39m start\n",
      "File \u001B[1;32mC:\\ProgramData\\Anaconda3\\envs\\aws_appstore_automation\\lib\\site-packages\\requests\\adapters.py:486\u001B[0m, in \u001B[0;36mHTTPAdapter.send\u001B[1;34m(self, request, stream, timeout, verify, cert, proxies)\u001B[0m\n\u001B[0;32m    483\u001B[0m     timeout \u001B[38;5;241m=\u001B[39m TimeoutSauce(connect\u001B[38;5;241m=\u001B[39mtimeout, read\u001B[38;5;241m=\u001B[39mtimeout)\n\u001B[0;32m    485\u001B[0m \u001B[38;5;28;01mtry\u001B[39;00m:\n\u001B[1;32m--> 486\u001B[0m     resp \u001B[38;5;241m=\u001B[39m \u001B[43mconn\u001B[49m\u001B[38;5;241;43m.\u001B[39;49m\u001B[43murlopen\u001B[49m\u001B[43m(\u001B[49m\n\u001B[0;32m    487\u001B[0m \u001B[43m        \u001B[49m\u001B[43mmethod\u001B[49m\u001B[38;5;241;43m=\u001B[39;49m\u001B[43mrequest\u001B[49m\u001B[38;5;241;43m.\u001B[39;49m\u001B[43mmethod\u001B[49m\u001B[43m,\u001B[49m\n\u001B[0;32m    488\u001B[0m \u001B[43m        \u001B[49m\u001B[43murl\u001B[49m\u001B[38;5;241;43m=\u001B[39;49m\u001B[43murl\u001B[49m\u001B[43m,\u001B[49m\n\u001B[0;32m    489\u001B[0m \u001B[43m        \u001B[49m\u001B[43mbody\u001B[49m\u001B[38;5;241;43m=\u001B[39;49m\u001B[43mrequest\u001B[49m\u001B[38;5;241;43m.\u001B[39;49m\u001B[43mbody\u001B[49m\u001B[43m,\u001B[49m\n\u001B[0;32m    490\u001B[0m \u001B[43m        \u001B[49m\u001B[43mheaders\u001B[49m\u001B[38;5;241;43m=\u001B[39;49m\u001B[43mrequest\u001B[49m\u001B[38;5;241;43m.\u001B[39;49m\u001B[43mheaders\u001B[49m\u001B[43m,\u001B[49m\n\u001B[0;32m    491\u001B[0m \u001B[43m        \u001B[49m\u001B[43mredirect\u001B[49m\u001B[38;5;241;43m=\u001B[39;49m\u001B[38;5;28;43;01mFalse\u001B[39;49;00m\u001B[43m,\u001B[49m\n\u001B[0;32m    492\u001B[0m \u001B[43m        \u001B[49m\u001B[43massert_same_host\u001B[49m\u001B[38;5;241;43m=\u001B[39;49m\u001B[38;5;28;43;01mFalse\u001B[39;49;00m\u001B[43m,\u001B[49m\n\u001B[0;32m    493\u001B[0m \u001B[43m        \u001B[49m\u001B[43mpreload_content\u001B[49m\u001B[38;5;241;43m=\u001B[39;49m\u001B[38;5;28;43;01mFalse\u001B[39;49;00m\u001B[43m,\u001B[49m\n\u001B[0;32m    494\u001B[0m \u001B[43m        \u001B[49m\u001B[43mdecode_content\u001B[49m\u001B[38;5;241;43m=\u001B[39;49m\u001B[38;5;28;43;01mFalse\u001B[39;49;00m\u001B[43m,\u001B[49m\n\u001B[0;32m    495\u001B[0m \u001B[43m        \u001B[49m\u001B[43mretries\u001B[49m\u001B[38;5;241;43m=\u001B[39;49m\u001B[38;5;28;43mself\u001B[39;49m\u001B[38;5;241;43m.\u001B[39;49m\u001B[43mmax_retries\u001B[49m\u001B[43m,\u001B[49m\n\u001B[0;32m    496\u001B[0m \u001B[43m        \u001B[49m\u001B[43mtimeout\u001B[49m\u001B[38;5;241;43m=\u001B[39;49m\u001B[43mtimeout\u001B[49m\u001B[43m,\u001B[49m\n\u001B[0;32m    497\u001B[0m \u001B[43m        \u001B[49m\u001B[43mchunked\u001B[49m\u001B[38;5;241;43m=\u001B[39;49m\u001B[43mchunked\u001B[49m\u001B[43m,\u001B[49m\n\u001B[0;32m    498\u001B[0m \u001B[43m    \u001B[49m\u001B[43m)\u001B[49m\n\u001B[0;32m    500\u001B[0m \u001B[38;5;28;01mexcept\u001B[39;00m (ProtocolError, \u001B[38;5;167;01mOSError\u001B[39;00m) \u001B[38;5;28;01mas\u001B[39;00m err:\n\u001B[0;32m    501\u001B[0m     \u001B[38;5;28;01mraise\u001B[39;00m \u001B[38;5;167;01mConnectionError\u001B[39;00m(err, request\u001B[38;5;241m=\u001B[39mrequest)\n",
      "File \u001B[1;32mC:\\ProgramData\\Anaconda3\\envs\\aws_appstore_automation\\lib\\site-packages\\urllib3\\connectionpool.py:715\u001B[0m, in \u001B[0;36mHTTPConnectionPool.urlopen\u001B[1;34m(self, method, url, body, headers, retries, redirect, assert_same_host, timeout, pool_timeout, release_conn, chunked, body_pos, **response_kw)\u001B[0m\n\u001B[0;32m    712\u001B[0m     \u001B[38;5;28mself\u001B[39m\u001B[38;5;241m.\u001B[39m_prepare_proxy(conn)\n\u001B[0;32m    714\u001B[0m \u001B[38;5;66;03m# Make the request on the httplib connection object.\u001B[39;00m\n\u001B[1;32m--> 715\u001B[0m httplib_response \u001B[38;5;241m=\u001B[39m \u001B[38;5;28;43mself\u001B[39;49m\u001B[38;5;241;43m.\u001B[39;49m\u001B[43m_make_request\u001B[49m\u001B[43m(\u001B[49m\n\u001B[0;32m    716\u001B[0m \u001B[43m    \u001B[49m\u001B[43mconn\u001B[49m\u001B[43m,\u001B[49m\n\u001B[0;32m    717\u001B[0m \u001B[43m    \u001B[49m\u001B[43mmethod\u001B[49m\u001B[43m,\u001B[49m\n\u001B[0;32m    718\u001B[0m \u001B[43m    \u001B[49m\u001B[43murl\u001B[49m\u001B[43m,\u001B[49m\n\u001B[0;32m    719\u001B[0m \u001B[43m    \u001B[49m\u001B[43mtimeout\u001B[49m\u001B[38;5;241;43m=\u001B[39;49m\u001B[43mtimeout_obj\u001B[49m\u001B[43m,\u001B[49m\n\u001B[0;32m    720\u001B[0m \u001B[43m    \u001B[49m\u001B[43mbody\u001B[49m\u001B[38;5;241;43m=\u001B[39;49m\u001B[43mbody\u001B[49m\u001B[43m,\u001B[49m\n\u001B[0;32m    721\u001B[0m \u001B[43m    \u001B[49m\u001B[43mheaders\u001B[49m\u001B[38;5;241;43m=\u001B[39;49m\u001B[43mheaders\u001B[49m\u001B[43m,\u001B[49m\n\u001B[0;32m    722\u001B[0m \u001B[43m    \u001B[49m\u001B[43mchunked\u001B[49m\u001B[38;5;241;43m=\u001B[39;49m\u001B[43mchunked\u001B[49m\u001B[43m,\u001B[49m\n\u001B[0;32m    723\u001B[0m \u001B[43m\u001B[49m\u001B[43m)\u001B[49m\n\u001B[0;32m    725\u001B[0m \u001B[38;5;66;03m# If we're going to release the connection in ``finally:``, then\u001B[39;00m\n\u001B[0;32m    726\u001B[0m \u001B[38;5;66;03m# the response doesn't need to know about the connection. Otherwise\u001B[39;00m\n\u001B[0;32m    727\u001B[0m \u001B[38;5;66;03m# it will also try to release it and we'll have a double-release\u001B[39;00m\n\u001B[0;32m    728\u001B[0m \u001B[38;5;66;03m# mess.\u001B[39;00m\n\u001B[0;32m    729\u001B[0m response_conn \u001B[38;5;241m=\u001B[39m conn \u001B[38;5;28;01mif\u001B[39;00m \u001B[38;5;129;01mnot\u001B[39;00m release_conn \u001B[38;5;28;01melse\u001B[39;00m \u001B[38;5;28;01mNone\u001B[39;00m\n",
      "File \u001B[1;32mC:\\ProgramData\\Anaconda3\\envs\\aws_appstore_automation\\lib\\site-packages\\urllib3\\connectionpool.py:467\u001B[0m, in \u001B[0;36mHTTPConnectionPool._make_request\u001B[1;34m(self, conn, method, url, timeout, chunked, **httplib_request_kw)\u001B[0m\n\u001B[0;32m    462\u001B[0m             httplib_response \u001B[38;5;241m=\u001B[39m conn\u001B[38;5;241m.\u001B[39mgetresponse()\n\u001B[0;32m    463\u001B[0m         \u001B[38;5;28;01mexcept\u001B[39;00m \u001B[38;5;167;01mBaseException\u001B[39;00m \u001B[38;5;28;01mas\u001B[39;00m e:\n\u001B[0;32m    464\u001B[0m             \u001B[38;5;66;03m# Remove the TypeError from the exception chain in\u001B[39;00m\n\u001B[0;32m    465\u001B[0m             \u001B[38;5;66;03m# Python 3 (including for exceptions like SystemExit).\u001B[39;00m\n\u001B[0;32m    466\u001B[0m             \u001B[38;5;66;03m# Otherwise it looks like a bug in the code.\u001B[39;00m\n\u001B[1;32m--> 467\u001B[0m             \u001B[43msix\u001B[49m\u001B[38;5;241;43m.\u001B[39;49m\u001B[43mraise_from\u001B[49m\u001B[43m(\u001B[49m\u001B[43me\u001B[49m\u001B[43m,\u001B[49m\u001B[43m \u001B[49m\u001B[38;5;28;43;01mNone\u001B[39;49;00m\u001B[43m)\u001B[49m\n\u001B[0;32m    468\u001B[0m \u001B[38;5;28;01mexcept\u001B[39;00m (SocketTimeout, BaseSSLError, SocketError) \u001B[38;5;28;01mas\u001B[39;00m e:\n\u001B[0;32m    469\u001B[0m     \u001B[38;5;28mself\u001B[39m\u001B[38;5;241m.\u001B[39m_raise_timeout(err\u001B[38;5;241m=\u001B[39me, url\u001B[38;5;241m=\u001B[39murl, timeout_value\u001B[38;5;241m=\u001B[39mread_timeout)\n",
      "File \u001B[1;32m<string>:3\u001B[0m, in \u001B[0;36mraise_from\u001B[1;34m(value, from_value)\u001B[0m\n",
      "File \u001B[1;32mC:\\ProgramData\\Anaconda3\\envs\\aws_appstore_automation\\lib\\site-packages\\urllib3\\connectionpool.py:462\u001B[0m, in \u001B[0;36mHTTPConnectionPool._make_request\u001B[1;34m(self, conn, method, url, timeout, chunked, **httplib_request_kw)\u001B[0m\n\u001B[0;32m    459\u001B[0m \u001B[38;5;28;01mexcept\u001B[39;00m \u001B[38;5;167;01mTypeError\u001B[39;00m:\n\u001B[0;32m    460\u001B[0m     \u001B[38;5;66;03m# Python 3\u001B[39;00m\n\u001B[0;32m    461\u001B[0m     \u001B[38;5;28;01mtry\u001B[39;00m:\n\u001B[1;32m--> 462\u001B[0m         httplib_response \u001B[38;5;241m=\u001B[39m \u001B[43mconn\u001B[49m\u001B[38;5;241;43m.\u001B[39;49m\u001B[43mgetresponse\u001B[49m\u001B[43m(\u001B[49m\u001B[43m)\u001B[49m\n\u001B[0;32m    463\u001B[0m     \u001B[38;5;28;01mexcept\u001B[39;00m \u001B[38;5;167;01mBaseException\u001B[39;00m \u001B[38;5;28;01mas\u001B[39;00m e:\n\u001B[0;32m    464\u001B[0m         \u001B[38;5;66;03m# Remove the TypeError from the exception chain in\u001B[39;00m\n\u001B[0;32m    465\u001B[0m         \u001B[38;5;66;03m# Python 3 (including for exceptions like SystemExit).\u001B[39;00m\n\u001B[0;32m    466\u001B[0m         \u001B[38;5;66;03m# Otherwise it looks like a bug in the code.\u001B[39;00m\n\u001B[0;32m    467\u001B[0m         six\u001B[38;5;241m.\u001B[39mraise_from(e, \u001B[38;5;28;01mNone\u001B[39;00m)\n",
      "File \u001B[1;32mC:\\ProgramData\\Anaconda3\\envs\\aws_appstore_automation\\lib\\http\\client.py:1375\u001B[0m, in \u001B[0;36mHTTPConnection.getresponse\u001B[1;34m(self)\u001B[0m\n\u001B[0;32m   1373\u001B[0m \u001B[38;5;28;01mtry\u001B[39;00m:\n\u001B[0;32m   1374\u001B[0m     \u001B[38;5;28;01mtry\u001B[39;00m:\n\u001B[1;32m-> 1375\u001B[0m         \u001B[43mresponse\u001B[49m\u001B[38;5;241;43m.\u001B[39;49m\u001B[43mbegin\u001B[49m\u001B[43m(\u001B[49m\u001B[43m)\u001B[49m\n\u001B[0;32m   1376\u001B[0m     \u001B[38;5;28;01mexcept\u001B[39;00m \u001B[38;5;167;01mConnectionError\u001B[39;00m:\n\u001B[0;32m   1377\u001B[0m         \u001B[38;5;28mself\u001B[39m\u001B[38;5;241m.\u001B[39mclose()\n",
      "File \u001B[1;32mC:\\ProgramData\\Anaconda3\\envs\\aws_appstore_automation\\lib\\http\\client.py:318\u001B[0m, in \u001B[0;36mHTTPResponse.begin\u001B[1;34m(self)\u001B[0m\n\u001B[0;32m    316\u001B[0m \u001B[38;5;66;03m# read until we get a non-100 response\u001B[39;00m\n\u001B[0;32m    317\u001B[0m \u001B[38;5;28;01mwhile\u001B[39;00m \u001B[38;5;28;01mTrue\u001B[39;00m:\n\u001B[1;32m--> 318\u001B[0m     version, status, reason \u001B[38;5;241m=\u001B[39m \u001B[38;5;28;43mself\u001B[39;49m\u001B[38;5;241;43m.\u001B[39;49m\u001B[43m_read_status\u001B[49m\u001B[43m(\u001B[49m\u001B[43m)\u001B[49m\n\u001B[0;32m    319\u001B[0m     \u001B[38;5;28;01mif\u001B[39;00m status \u001B[38;5;241m!=\u001B[39m CONTINUE:\n\u001B[0;32m    320\u001B[0m         \u001B[38;5;28;01mbreak\u001B[39;00m\n",
      "File \u001B[1;32mC:\\ProgramData\\Anaconda3\\envs\\aws_appstore_automation\\lib\\http\\client.py:279\u001B[0m, in \u001B[0;36mHTTPResponse._read_status\u001B[1;34m(self)\u001B[0m\n\u001B[0;32m    278\u001B[0m \u001B[38;5;28;01mdef\u001B[39;00m \u001B[38;5;21m_read_status\u001B[39m(\u001B[38;5;28mself\u001B[39m):\n\u001B[1;32m--> 279\u001B[0m     line \u001B[38;5;241m=\u001B[39m \u001B[38;5;28mstr\u001B[39m(\u001B[38;5;28;43mself\u001B[39;49m\u001B[38;5;241;43m.\u001B[39;49m\u001B[43mfp\u001B[49m\u001B[38;5;241;43m.\u001B[39;49m\u001B[43mreadline\u001B[49m\u001B[43m(\u001B[49m\u001B[43m_MAXLINE\u001B[49m\u001B[43m \u001B[49m\u001B[38;5;241;43m+\u001B[39;49m\u001B[43m \u001B[49m\u001B[38;5;241;43m1\u001B[39;49m\u001B[43m)\u001B[49m, \u001B[38;5;124m\"\u001B[39m\u001B[38;5;124miso-8859-1\u001B[39m\u001B[38;5;124m\"\u001B[39m)\n\u001B[0;32m    280\u001B[0m     \u001B[38;5;28;01mif\u001B[39;00m \u001B[38;5;28mlen\u001B[39m(line) \u001B[38;5;241m>\u001B[39m _MAXLINE:\n\u001B[0;32m    281\u001B[0m         \u001B[38;5;28;01mraise\u001B[39;00m LineTooLong(\u001B[38;5;124m\"\u001B[39m\u001B[38;5;124mstatus line\u001B[39m\u001B[38;5;124m\"\u001B[39m)\n",
      "File \u001B[1;32mC:\\ProgramData\\Anaconda3\\envs\\aws_appstore_automation\\lib\\socket.py:705\u001B[0m, in \u001B[0;36mSocketIO.readinto\u001B[1;34m(self, b)\u001B[0m\n\u001B[0;32m    703\u001B[0m \u001B[38;5;28;01mwhile\u001B[39;00m \u001B[38;5;28;01mTrue\u001B[39;00m:\n\u001B[0;32m    704\u001B[0m     \u001B[38;5;28;01mtry\u001B[39;00m:\n\u001B[1;32m--> 705\u001B[0m         \u001B[38;5;28;01mreturn\u001B[39;00m \u001B[38;5;28;43mself\u001B[39;49m\u001B[38;5;241;43m.\u001B[39;49m\u001B[43m_sock\u001B[49m\u001B[38;5;241;43m.\u001B[39;49m\u001B[43mrecv_into\u001B[49m\u001B[43m(\u001B[49m\u001B[43mb\u001B[49m\u001B[43m)\u001B[49m\n\u001B[0;32m    706\u001B[0m     \u001B[38;5;28;01mexcept\u001B[39;00m timeout:\n\u001B[0;32m    707\u001B[0m         \u001B[38;5;28mself\u001B[39m\u001B[38;5;241m.\u001B[39m_timeout_occurred \u001B[38;5;241m=\u001B[39m \u001B[38;5;28;01mTrue\u001B[39;00m\n",
      "File \u001B[1;32mC:\\ProgramData\\Anaconda3\\envs\\aws_appstore_automation\\lib\\ssl.py:1307\u001B[0m, in \u001B[0;36mSSLSocket.recv_into\u001B[1;34m(self, buffer, nbytes, flags)\u001B[0m\n\u001B[0;32m   1303\u001B[0m     \u001B[38;5;28;01mif\u001B[39;00m flags \u001B[38;5;241m!=\u001B[39m \u001B[38;5;241m0\u001B[39m:\n\u001B[0;32m   1304\u001B[0m         \u001B[38;5;28;01mraise\u001B[39;00m \u001B[38;5;167;01mValueError\u001B[39;00m(\n\u001B[0;32m   1305\u001B[0m           \u001B[38;5;124m\"\u001B[39m\u001B[38;5;124mnon-zero flags not allowed in calls to recv_into() on \u001B[39m\u001B[38;5;132;01m%s\u001B[39;00m\u001B[38;5;124m\"\u001B[39m \u001B[38;5;241m%\u001B[39m\n\u001B[0;32m   1306\u001B[0m           \u001B[38;5;28mself\u001B[39m\u001B[38;5;241m.\u001B[39m\u001B[38;5;18m__class__\u001B[39m)\n\u001B[1;32m-> 1307\u001B[0m     \u001B[38;5;28;01mreturn\u001B[39;00m \u001B[38;5;28;43mself\u001B[39;49m\u001B[38;5;241;43m.\u001B[39;49m\u001B[43mread\u001B[49m\u001B[43m(\u001B[49m\u001B[43mnbytes\u001B[49m\u001B[43m,\u001B[49m\u001B[43m \u001B[49m\u001B[43mbuffer\u001B[49m\u001B[43m)\u001B[49m\n\u001B[0;32m   1308\u001B[0m \u001B[38;5;28;01melse\u001B[39;00m:\n\u001B[0;32m   1309\u001B[0m     \u001B[38;5;28;01mreturn\u001B[39;00m \u001B[38;5;28msuper\u001B[39m()\u001B[38;5;241m.\u001B[39mrecv_into(buffer, nbytes, flags)\n",
      "File \u001B[1;32mC:\\ProgramData\\Anaconda3\\envs\\aws_appstore_automation\\lib\\ssl.py:1163\u001B[0m, in \u001B[0;36mSSLSocket.read\u001B[1;34m(self, len, buffer)\u001B[0m\n\u001B[0;32m   1161\u001B[0m \u001B[38;5;28;01mtry\u001B[39;00m:\n\u001B[0;32m   1162\u001B[0m     \u001B[38;5;28;01mif\u001B[39;00m buffer \u001B[38;5;129;01mis\u001B[39;00m \u001B[38;5;129;01mnot\u001B[39;00m \u001B[38;5;28;01mNone\u001B[39;00m:\n\u001B[1;32m-> 1163\u001B[0m         \u001B[38;5;28;01mreturn\u001B[39;00m \u001B[38;5;28;43mself\u001B[39;49m\u001B[38;5;241;43m.\u001B[39;49m\u001B[43m_sslobj\u001B[49m\u001B[38;5;241;43m.\u001B[39;49m\u001B[43mread\u001B[49m\u001B[43m(\u001B[49m\u001B[38;5;28;43mlen\u001B[39;49m\u001B[43m,\u001B[49m\u001B[43m \u001B[49m\u001B[43mbuffer\u001B[49m\u001B[43m)\u001B[49m\n\u001B[0;32m   1164\u001B[0m     \u001B[38;5;28;01melse\u001B[39;00m:\n\u001B[0;32m   1165\u001B[0m         \u001B[38;5;28;01mreturn\u001B[39;00m \u001B[38;5;28mself\u001B[39m\u001B[38;5;241m.\u001B[39m_sslobj\u001B[38;5;241m.\u001B[39mread(\u001B[38;5;28mlen\u001B[39m)\n",
      "\u001B[1;31mKeyboardInterrupt\u001B[0m: "
     ]
    }
   ],
   "source": [
    "for apk_name in data:\n",
    "    print(apk_name)\n",
    "    for i, url in enumerate(data[apk_name]):\n",
    "        download_n_save(url, f'screenshots {apk_name} {i}.png', r\"C:\\Users\\Anon\\Downloads\\a\")"
   ],
   "metadata": {
    "collapsed": false,
    "ExecuteTime": {
     "end_time": "2024-02-04T14:05:19.643455800Z",
     "start_time": "2024-02-04T14:04:41.258582300Z"
    }
   },
   "id": "93b0302e9c3792ca",
   "execution_count": 47
  },
  {
   "cell_type": "code",
   "outputs": [
    {
     "data": {
      "text/plain": "dict_keys(['MY Town Life World', 'MY Town Life World Castle', 'High Girl school simulator 3D', 'Stair Run Bridge Race 3D', 'Boba Drink Tasty Bubble Tea', 'Antistress - relaxing games', 'Anime vinder princess dress up', 'Dress up Anime Star Princess', 'Happy township farming games', 'Hair Braided Salon Makeup Game', 'Supermarket simulator:my store', 'John Trigger 3d:Action Shooter', 'Makeup princess anime dress up', 'FPS war Strike:PVP Shooter'])"
     },
     "execution_count": 46,
     "metadata": {},
     "output_type": "execute_result"
    }
   ],
   "source": [
    "data.keys()"
   ],
   "metadata": {
    "collapsed": false,
    "ExecuteTime": {
     "end_time": "2024-02-04T14:01:21.370026300Z",
     "start_time": "2024-02-04T14:01:21.333125Z"
    }
   },
   "id": "9c2b9e4627db13b6",
   "execution_count": 46
  },
  {
   "cell_type": "code",
   "outputs": [
    {
     "name": "stdout",
     "output_type": "stream",
     "text": [
      "Not in terminal, reprint now using normal build-in print function.\n"
     ]
    },
    {
     "data": {
      "text/plain": "<pypdl.utls.FileValidator at 0x22434361ea0>"
     },
     "execution_count": 52,
     "metadata": {},
     "output_type": "execute_result"
    }
   ],
   "source": [
    "a = d.start(\"https://download.apkcombo.com/com.microsoft.outlooklite/Microsoft%20Outlook%20Lite:%20Email_3.24.0-minApi24_apkcombo.com.apk?ecp=Y29tLm1pY3Jvc29mdC5vdXRsb29rbGl0ZS8zLjI0LjAtbWluQXBpMjQvNjAzMjQwLjU2YzE0MDhkZGMxNmIyZjUzMjk3OGY4ODVkMTdjMGE0YWIyNzc4MjMuYXBr&iat=1707057013&sig=baa29b8e3b7282f870fdc093483e331b&size=14522564&from=cf&version=latest&lang=en&fp=1eaa3ef0653ef76edc7cc5e4161b6c00&ip=104.28.220.192\", file_path=os.path.join(os.getcwd(), \"abc.apk\"), retries=3, segments=5, display=False)\n",
    "\n",
    "a"
   ],
   "metadata": {
    "collapsed": false,
    "ExecuteTime": {
     "end_time": "2024-02-04T14:41:43.384812300Z",
     "start_time": "2024-02-04T14:40:33.282244800Z"
    }
   },
   "id": "42b34afcc611b715",
   "execution_count": 52
  },
  {
   "cell_type": "code",
   "outputs": [],
   "source": [],
   "metadata": {
    "collapsed": false
   },
   "id": "e4919960ba15450c"
  },
  {
   "cell_type": "code",
   "outputs": [],
   "source": [],
   "metadata": {
    "collapsed": false
   },
   "id": "76c939942fb415dd"
  },
  {
   "cell_type": "code",
   "outputs": [],
   "source": [],
   "metadata": {
    "collapsed": false
   },
   "id": "f98ff06a70507ee5"
  },
  {
   "cell_type": "code",
   "outputs": [],
   "source": [],
   "metadata": {
    "collapsed": false
   },
   "id": "e2efdc0f95a73084"
  },
  {
   "cell_type": "code",
   "outputs": [],
   "source": [
    "import time\n",
    "from concurrent.futures import ThreadPoolExecutor\n",
    "\n",
    "import requests\n",
    "from bs4 import BeautifulSoup\n",
    "from urllib.parse import parse_qsl, urlunparse, urlparse, urlencode\n",
    "from pathlib import Path\n",
    "import os\n",
    "# from logger import logger\n",
    "from PIL import Image\n",
    "from selenium.webdriver import Chrome, ChromeOptions\n",
    "from requests.exceptions import ChunkedEncodingError, ConnectionError\n",
    "from pypdl import Downloader\n"
   ],
   "metadata": {
    "collapsed": false,
    "ExecuteTime": {
     "end_time": "2024-02-04T15:49:51.687742800Z",
     "start_time": "2024-02-04T15:49:51.669759400Z"
    }
   },
   "id": "45e74e0d432ec5d8",
   "execution_count": 56
  },
  {
   "cell_type": "code",
   "outputs": [],
   "source": [
    "WRK_DIR = os.getcwd()\n",
    "APK_DATA_PATH = os.path.join(WRK_DIR, \"src\", \"apk_data\")\n",
    "py_downloader = Downloader()\n",
    "chrome_options = ChromeOptions()\n",
    "chrome_options.add_argument(\"--headless\")\n",
    "driver = Chrome()\n",
    "driver.maximize_window()"
   ],
   "metadata": {
    "collapsed": false,
    "ExecuteTime": {
     "end_time": "2024-02-04T15:50:11.471125200Z",
     "start_time": "2024-02-04T15:50:04.305785200Z"
    }
   },
   "id": "330ffdb51617dc64",
   "execution_count": 57
  },
  {
   "cell_type": "code",
   "outputs": [],
   "source": [
    "url = \"https://apkcombo.com/autokill-sandbox/{package_name}/download/apk\"\n",
    "driver.get(url.format(package_name=package_name))\n",
    "time.sleep(5)\n",
    "soup = BeautifulSoup(driver.page_source, \"html.parser\")\n",
    "download_link = soup.find(\"a\", class_=\"variant\").get(\"href\")\n",
    "driver.close()\n",
    "logger.debug(f\"Extracted download url from apkcombo {download_link}\")"
   ],
   "metadata": {
    "collapsed": false
   },
   "id": "beae36a5e7932767"
  },
  {
   "cell_type": "code",
   "outputs": [],
   "source": [
    "\n",
    "\n",
    "headers = {\n",
    "    \"User-Agent\": \"Mozilla/5.0 (Windows NT 10.0; Win64; x64) AppleWebKit/537.36 (KHTML, like Gecko) \"\n",
    "                  \"Chrome/89.0.4389.114 Safari/537.36\",\n",
    "    \"referer\": 'https://apkcombo.com/'\n",
    "}\n",
    "\n",
    "a = requests.get(\"https://apkcombo.com/search?q=com.microsoft.outlooklite\", headers=headers)"
   ],
   "metadata": {
    "collapsed": false,
    "ExecuteTime": {
     "end_time": "2024-02-04T15:55:08.076337500Z",
     "start_time": "2024-02-04T15:55:00.250118200Z"
    }
   },
   "id": "e2a67db777cbf68",
   "execution_count": 64
  },
  {
   "cell_type": "code",
   "outputs": [],
   "source": [
    "pattern = r'/([^/]+)/$'\n",
    "url = f\"https://apkcombo.com/search?q=com.microsoft.outlooklite\"\n",
    "\n",
    "driver.get(url)\n",
    "match = re.search(pattern, driver.current_url)\n",
    "if match:\n",
    "    middle_apk_name = match.group(0)"
   ],
   "metadata": {
    "collapsed": false,
    "ExecuteTime": {
     "end_time": "2024-02-04T16:07:57.014712800Z",
     "start_time": "2024-02-04T16:06:42.291295Z"
    }
   },
   "id": "24a810d49841a549",
   "execution_count": 66
  },
  {
   "cell_type": "code",
   "outputs": [
    {
     "data": {
      "text/plain": "[<selenium.webdriver.remote.webelement.WebElement (session=\"a604a8d54112083216bea023db11e635\", element=\"556A795F99D91922F2BE627BBD687274_element_25\")>,\n <selenium.webdriver.remote.webelement.WebElement (session=\"a604a8d54112083216bea023db11e635\", element=\"556A795F99D91922F2BE627BBD687274_element_109\")>,\n <selenium.webdriver.remote.webelement.WebElement (session=\"a604a8d54112083216bea023db11e635\", element=\"556A795F99D91922F2BE627BBD687274_element_1143\")>,\n <selenium.webdriver.remote.webelement.WebElement (session=\"a604a8d54112083216bea023db11e635\", element=\"556A795F99D91922F2BE627BBD687274_element_1147\")>,\n <selenium.webdriver.remote.webelement.WebElement (session=\"a604a8d54112083216bea023db11e635\", element=\"556A795F99D91922F2BE627BBD687274_element_1151\")>,\n <selenium.webdriver.remote.webelement.WebElement (session=\"a604a8d54112083216bea023db11e635\", element=\"556A795F99D91922F2BE627BBD687274_element_119\")>,\n <selenium.webdriver.remote.webelement.WebElement (session=\"a604a8d54112083216bea023db11e635\", element=\"556A795F99D91922F2BE627BBD687274_element_122\")>,\n <selenium.webdriver.remote.webelement.WebElement (session=\"a604a8d54112083216bea023db11e635\", element=\"556A795F99D91922F2BE627BBD687274_element_126\")>,\n <selenium.webdriver.remote.webelement.WebElement (session=\"a604a8d54112083216bea023db11e635\", element=\"556A795F99D91922F2BE627BBD687274_element_130\")>,\n <selenium.webdriver.remote.webelement.WebElement (session=\"a604a8d54112083216bea023db11e635\", element=\"556A795F99D91922F2BE627BBD687274_element_134\")>,\n <selenium.webdriver.remote.webelement.WebElement (session=\"a604a8d54112083216bea023db11e635\", element=\"556A795F99D91922F2BE627BBD687274_element_138\")>,\n <selenium.webdriver.remote.webelement.WebElement (session=\"a604a8d54112083216bea023db11e635\", element=\"556A795F99D91922F2BE627BBD687274_element_142\")>,\n <selenium.webdriver.remote.webelement.WebElement (session=\"a604a8d54112083216bea023db11e635\", element=\"556A795F99D91922F2BE627BBD687274_element_146\")>,\n <selenium.webdriver.remote.webelement.WebElement (session=\"a604a8d54112083216bea023db11e635\", element=\"556A795F99D91922F2BE627BBD687274_element_150\")>,\n <selenium.webdriver.remote.webelement.WebElement (session=\"a604a8d54112083216bea023db11e635\", element=\"556A795F99D91922F2BE627BBD687274_element_154\")>,\n <selenium.webdriver.remote.webelement.WebElement (session=\"a604a8d54112083216bea023db11e635\", element=\"556A795F99D91922F2BE627BBD687274_element_158\")>,\n <selenium.webdriver.remote.webelement.WebElement (session=\"a604a8d54112083216bea023db11e635\", element=\"556A795F99D91922F2BE627BBD687274_element_162\")>,\n <selenium.webdriver.remote.webelement.WebElement (session=\"a604a8d54112083216bea023db11e635\", element=\"556A795F99D91922F2BE627BBD687274_element_166\")>,\n <selenium.webdriver.remote.webelement.WebElement (session=\"a604a8d54112083216bea023db11e635\", element=\"556A795F99D91922F2BE627BBD687274_element_170\")>,\n <selenium.webdriver.remote.webelement.WebElement (session=\"a604a8d54112083216bea023db11e635\", element=\"556A795F99D91922F2BE627BBD687274_element_174\")>,\n <selenium.webdriver.remote.webelement.WebElement (session=\"a604a8d54112083216bea023db11e635\", element=\"556A795F99D91922F2BE627BBD687274_element_178\")>,\n <selenium.webdriver.remote.webelement.WebElement (session=\"a604a8d54112083216bea023db11e635\", element=\"556A795F99D91922F2BE627BBD687274_element_182\")>,\n <selenium.webdriver.remote.webelement.WebElement (session=\"a604a8d54112083216bea023db11e635\", element=\"556A795F99D91922F2BE627BBD687274_element_186\")>,\n <selenium.webdriver.remote.webelement.WebElement (session=\"a604a8d54112083216bea023db11e635\", element=\"556A795F99D91922F2BE627BBD687274_element_190\")>,\n <selenium.webdriver.remote.webelement.WebElement (session=\"a604a8d54112083216bea023db11e635\", element=\"556A795F99D91922F2BE627BBD687274_element_194\")>,\n <selenium.webdriver.remote.webelement.WebElement (session=\"a604a8d54112083216bea023db11e635\", element=\"556A795F99D91922F2BE627BBD687274_element_262\")>,\n <selenium.webdriver.remote.webelement.WebElement (session=\"a604a8d54112083216bea023db11e635\", element=\"556A795F99D91922F2BE627BBD687274_element_267\")>,\n <selenium.webdriver.remote.webelement.WebElement (session=\"a604a8d54112083216bea023db11e635\", element=\"556A795F99D91922F2BE627BBD687274_element_272\")>,\n <selenium.webdriver.remote.webelement.WebElement (session=\"a604a8d54112083216bea023db11e635\", element=\"556A795F99D91922F2BE627BBD687274_element_22\")>,\n <selenium.webdriver.remote.webelement.WebElement (session=\"a604a8d54112083216bea023db11e635\", element=\"556A795F99D91922F2BE627BBD687274_element_299\")>,\n <selenium.webdriver.remote.webelement.WebElement (session=\"a604a8d54112083216bea023db11e635\", element=\"556A795F99D91922F2BE627BBD687274_element_308\")>,\n <selenium.webdriver.remote.webelement.WebElement (session=\"a604a8d54112083216bea023db11e635\", element=\"556A795F99D91922F2BE627BBD687274_element_316\")>,\n <selenium.webdriver.remote.webelement.WebElement (session=\"a604a8d54112083216bea023db11e635\", element=\"556A795F99D91922F2BE627BBD687274_element_208\")>,\n <selenium.webdriver.remote.webelement.WebElement (session=\"a604a8d54112083216bea023db11e635\", element=\"556A795F99D91922F2BE627BBD687274_element_211\")>,\n <selenium.webdriver.remote.webelement.WebElement (session=\"a604a8d54112083216bea023db11e635\", element=\"556A795F99D91922F2BE627BBD687274_element_213\")>,\n <selenium.webdriver.remote.webelement.WebElement (session=\"a604a8d54112083216bea023db11e635\", element=\"556A795F99D91922F2BE627BBD687274_element_215\")>,\n <selenium.webdriver.remote.webelement.WebElement (session=\"a604a8d54112083216bea023db11e635\", element=\"556A795F99D91922F2BE627BBD687274_element_336\")>,\n <selenium.webdriver.remote.webelement.WebElement (session=\"a604a8d54112083216bea023db11e635\", element=\"556A795F99D91922F2BE627BBD687274_element_337\")>,\n <selenium.webdriver.remote.webelement.WebElement (session=\"a604a8d54112083216bea023db11e635\", element=\"556A795F99D91922F2BE627BBD687274_element_338\")>,\n <selenium.webdriver.remote.webelement.WebElement (session=\"a604a8d54112083216bea023db11e635\", element=\"556A795F99D91922F2BE627BBD687274_element_107\")>,\n <selenium.webdriver.remote.webelement.WebElement (session=\"a604a8d54112083216bea023db11e635\", element=\"556A795F99D91922F2BE627BBD687274_element_340\")>,\n <selenium.webdriver.remote.webelement.WebElement (session=\"a604a8d54112083216bea023db11e635\", element=\"556A795F99D91922F2BE627BBD687274_element_342\")>,\n <selenium.webdriver.remote.webelement.WebElement (session=\"a604a8d54112083216bea023db11e635\", element=\"556A795F99D91922F2BE627BBD687274_element_344\")>,\n <selenium.webdriver.remote.webelement.WebElement (session=\"a604a8d54112083216bea023db11e635\", element=\"556A795F99D91922F2BE627BBD687274_element_351\")>,\n <selenium.webdriver.remote.webelement.WebElement (session=\"a604a8d54112083216bea023db11e635\", element=\"556A795F99D91922F2BE627BBD687274_element_362\")>,\n <selenium.webdriver.remote.webelement.WebElement (session=\"a604a8d54112083216bea023db11e635\", element=\"556A795F99D91922F2BE627BBD687274_element_381\")>,\n <selenium.webdriver.remote.webelement.WebElement (session=\"a604a8d54112083216bea023db11e635\", element=\"556A795F99D91922F2BE627BBD687274_element_391\")>,\n <selenium.webdriver.remote.webelement.WebElement (session=\"a604a8d54112083216bea023db11e635\", element=\"556A795F99D91922F2BE627BBD687274_element_401\")>,\n <selenium.webdriver.remote.webelement.WebElement (session=\"a604a8d54112083216bea023db11e635\", element=\"556A795F99D91922F2BE627BBD687274_element_432\")>,\n <selenium.webdriver.remote.webelement.WebElement (session=\"a604a8d54112083216bea023db11e635\", element=\"556A795F99D91922F2BE627BBD687274_element_553\")>,\n <selenium.webdriver.remote.webelement.WebElement (session=\"a604a8d54112083216bea023db11e635\", element=\"556A795F99D91922F2BE627BBD687274_element_558\")>,\n <selenium.webdriver.remote.webelement.WebElement (session=\"a604a8d54112083216bea023db11e635\", element=\"556A795F99D91922F2BE627BBD687274_element_580\")>,\n <selenium.webdriver.remote.webelement.WebElement (session=\"a604a8d54112083216bea023db11e635\", element=\"556A795F99D91922F2BE627BBD687274_element_603\")>,\n <selenium.webdriver.remote.webelement.WebElement (session=\"a604a8d54112083216bea023db11e635\", element=\"556A795F99D91922F2BE627BBD687274_element_626\")>,\n <selenium.webdriver.remote.webelement.WebElement (session=\"a604a8d54112083216bea023db11e635\", element=\"556A795F99D91922F2BE627BBD687274_element_633\")>,\n <selenium.webdriver.remote.webelement.WebElement (session=\"a604a8d54112083216bea023db11e635\", element=\"556A795F99D91922F2BE627BBD687274_element_646\")>,\n <selenium.webdriver.remote.webelement.WebElement (session=\"a604a8d54112083216bea023db11e635\", element=\"556A795F99D91922F2BE627BBD687274_element_651\")>,\n <selenium.webdriver.remote.webelement.WebElement (session=\"a604a8d54112083216bea023db11e635\", element=\"556A795F99D91922F2BE627BBD687274_element_656\")>,\n <selenium.webdriver.remote.webelement.WebElement (session=\"a604a8d54112083216bea023db11e635\", element=\"556A795F99D91922F2BE627BBD687274_element_661\")>,\n <selenium.webdriver.remote.webelement.WebElement (session=\"a604a8d54112083216bea023db11e635\", element=\"556A795F99D91922F2BE627BBD687274_element_666\")>,\n <selenium.webdriver.remote.webelement.WebElement (session=\"a604a8d54112083216bea023db11e635\", element=\"556A795F99D91922F2BE627BBD687274_element_671\")>,\n <selenium.webdriver.remote.webelement.WebElement (session=\"a604a8d54112083216bea023db11e635\", element=\"556A795F99D91922F2BE627BBD687274_element_676\")>,\n <selenium.webdriver.remote.webelement.WebElement (session=\"a604a8d54112083216bea023db11e635\", element=\"556A795F99D91922F2BE627BBD687274_element_681\")>,\n <selenium.webdriver.remote.webelement.WebElement (session=\"a604a8d54112083216bea023db11e635\", element=\"556A795F99D91922F2BE627BBD687274_element_686\")>,\n <selenium.webdriver.remote.webelement.WebElement (session=\"a604a8d54112083216bea023db11e635\", element=\"556A795F99D91922F2BE627BBD687274_element_691\")>,\n <selenium.webdriver.remote.webelement.WebElement (session=\"a604a8d54112083216bea023db11e635\", element=\"556A795F99D91922F2BE627BBD687274_element_696\")>,\n <selenium.webdriver.remote.webelement.WebElement (session=\"a604a8d54112083216bea023db11e635\", element=\"556A795F99D91922F2BE627BBD687274_element_701\")>,\n <selenium.webdriver.remote.webelement.WebElement (session=\"a604a8d54112083216bea023db11e635\", element=\"556A795F99D91922F2BE627BBD687274_element_706\")>,\n <selenium.webdriver.remote.webelement.WebElement (session=\"a604a8d54112083216bea023db11e635\", element=\"556A795F99D91922F2BE627BBD687274_element_711\")>,\n <selenium.webdriver.remote.webelement.WebElement (session=\"a604a8d54112083216bea023db11e635\", element=\"556A795F99D91922F2BE627BBD687274_element_716\")>,\n <selenium.webdriver.remote.webelement.WebElement (session=\"a604a8d54112083216bea023db11e635\", element=\"556A795F99D91922F2BE627BBD687274_element_721\")>,\n <selenium.webdriver.remote.webelement.WebElement (session=\"a604a8d54112083216bea023db11e635\", element=\"556A795F99D91922F2BE627BBD687274_element_726\")>,\n <selenium.webdriver.remote.webelement.WebElement (session=\"a604a8d54112083216bea023db11e635\", element=\"556A795F99D91922F2BE627BBD687274_element_731\")>,\n <selenium.webdriver.remote.webelement.WebElement (session=\"a604a8d54112083216bea023db11e635\", element=\"556A795F99D91922F2BE627BBD687274_element_736\")>,\n <selenium.webdriver.remote.webelement.WebElement (session=\"a604a8d54112083216bea023db11e635\", element=\"556A795F99D91922F2BE627BBD687274_element_741\")>,\n <selenium.webdriver.remote.webelement.WebElement (session=\"a604a8d54112083216bea023db11e635\", element=\"556A795F99D91922F2BE627BBD687274_element_746\")>,\n <selenium.webdriver.remote.webelement.WebElement (session=\"a604a8d54112083216bea023db11e635\", element=\"556A795F99D91922F2BE627BBD687274_element_773\")>,\n <selenium.webdriver.remote.webelement.WebElement (session=\"a604a8d54112083216bea023db11e635\", element=\"556A795F99D91922F2BE627BBD687274_element_776\")>,\n <selenium.webdriver.remote.webelement.WebElement (session=\"a604a8d54112083216bea023db11e635\", element=\"556A795F99D91922F2BE627BBD687274_element_784\")>,\n <selenium.webdriver.remote.webelement.WebElement (session=\"a604a8d54112083216bea023db11e635\", element=\"556A795F99D91922F2BE627BBD687274_element_800\")>,\n <selenium.webdriver.remote.webelement.WebElement (session=\"a604a8d54112083216bea023db11e635\", element=\"556A795F99D91922F2BE627BBD687274_element_815\")>,\n <selenium.webdriver.remote.webelement.WebElement (session=\"a604a8d54112083216bea023db11e635\", element=\"556A795F99D91922F2BE627BBD687274_element_830\")>,\n <selenium.webdriver.remote.webelement.WebElement (session=\"a604a8d54112083216bea023db11e635\", element=\"556A795F99D91922F2BE627BBD687274_element_845\")>,\n <selenium.webdriver.remote.webelement.WebElement (session=\"a604a8d54112083216bea023db11e635\", element=\"556A795F99D91922F2BE627BBD687274_element_860\")>,\n <selenium.webdriver.remote.webelement.WebElement (session=\"a604a8d54112083216bea023db11e635\", element=\"556A795F99D91922F2BE627BBD687274_element_865\")>,\n <selenium.webdriver.remote.webelement.WebElement (session=\"a604a8d54112083216bea023db11e635\", element=\"556A795F99D91922F2BE627BBD687274_element_873\")>,\n <selenium.webdriver.remote.webelement.WebElement (session=\"a604a8d54112083216bea023db11e635\", element=\"556A795F99D91922F2BE627BBD687274_element_889\")>,\n <selenium.webdriver.remote.webelement.WebElement (session=\"a604a8d54112083216bea023db11e635\", element=\"556A795F99D91922F2BE627BBD687274_element_904\")>,\n <selenium.webdriver.remote.webelement.WebElement (session=\"a604a8d54112083216bea023db11e635\", element=\"556A795F99D91922F2BE627BBD687274_element_919\")>,\n <selenium.webdriver.remote.webelement.WebElement (session=\"a604a8d54112083216bea023db11e635\", element=\"556A795F99D91922F2BE627BBD687274_element_934\")>,\n <selenium.webdriver.remote.webelement.WebElement (session=\"a604a8d54112083216bea023db11e635\", element=\"556A795F99D91922F2BE627BBD687274_element_949\")>,\n <selenium.webdriver.remote.webelement.WebElement (session=\"a604a8d54112083216bea023db11e635\", element=\"556A795F99D91922F2BE627BBD687274_element_964\")>,\n <selenium.webdriver.remote.webelement.WebElement (session=\"a604a8d54112083216bea023db11e635\", element=\"556A795F99D91922F2BE627BBD687274_element_979\")>,\n <selenium.webdriver.remote.webelement.WebElement (session=\"a604a8d54112083216bea023db11e635\", element=\"556A795F99D91922F2BE627BBD687274_element_994\")>,\n <selenium.webdriver.remote.webelement.WebElement (session=\"a604a8d54112083216bea023db11e635\", element=\"556A795F99D91922F2BE627BBD687274_element_1009\")>,\n <selenium.webdriver.remote.webelement.WebElement (session=\"a604a8d54112083216bea023db11e635\", element=\"556A795F99D91922F2BE627BBD687274_element_1024\")>,\n <selenium.webdriver.remote.webelement.WebElement (session=\"a604a8d54112083216bea023db11e635\", element=\"556A795F99D91922F2BE627BBD687274_element_1029\")>,\n <selenium.webdriver.remote.webelement.WebElement (session=\"a604a8d54112083216bea023db11e635\", element=\"556A795F99D91922F2BE627BBD687274_element_1048\")>,\n <selenium.webdriver.remote.webelement.WebElement (session=\"a604a8d54112083216bea023db11e635\", element=\"556A795F99D91922F2BE627BBD687274_element_1051\")>,\n <selenium.webdriver.remote.webelement.WebElement (session=\"a604a8d54112083216bea023db11e635\", element=\"556A795F99D91922F2BE627BBD687274_element_1062\")>,\n <selenium.webdriver.remote.webelement.WebElement (session=\"a604a8d54112083216bea023db11e635\", element=\"556A795F99D91922F2BE627BBD687274_element_1064\")>,\n <selenium.webdriver.remote.webelement.WebElement (session=\"a604a8d54112083216bea023db11e635\", element=\"556A795F99D91922F2BE627BBD687274_element_1066\")>,\n <selenium.webdriver.remote.webelement.WebElement (session=\"a604a8d54112083216bea023db11e635\", element=\"556A795F99D91922F2BE627BBD687274_element_1068\")>,\n <selenium.webdriver.remote.webelement.WebElement (session=\"a604a8d54112083216bea023db11e635\", element=\"556A795F99D91922F2BE627BBD687274_element_1070\")>,\n <selenium.webdriver.remote.webelement.WebElement (session=\"a604a8d54112083216bea023db11e635\", element=\"556A795F99D91922F2BE627BBD687274_element_1072\")>,\n <selenium.webdriver.remote.webelement.WebElement (session=\"a604a8d54112083216bea023db11e635\", element=\"556A795F99D91922F2BE627BBD687274_element_1074\")>,\n <selenium.webdriver.remote.webelement.WebElement (session=\"a604a8d54112083216bea023db11e635\", element=\"556A795F99D91922F2BE627BBD687274_element_1076\")>,\n <selenium.webdriver.remote.webelement.WebElement (session=\"a604a8d54112083216bea023db11e635\", element=\"556A795F99D91922F2BE627BBD687274_element_1078\")>,\n <selenium.webdriver.remote.webelement.WebElement (session=\"a604a8d54112083216bea023db11e635\", element=\"556A795F99D91922F2BE627BBD687274_element_1080\")>,\n <selenium.webdriver.remote.webelement.WebElement (session=\"a604a8d54112083216bea023db11e635\", element=\"556A795F99D91922F2BE627BBD687274_element_1227\")>,\n <selenium.webdriver.remote.webelement.WebElement (session=\"a604a8d54112083216bea023db11e635\", element=\"556A795F99D91922F2BE627BBD687274_element_1231\")>,\n <selenium.webdriver.remote.webelement.WebElement (session=\"a604a8d54112083216bea023db11e635\", element=\"556A795F99D91922F2BE627BBD687274_element_1234\")>,\n <selenium.webdriver.remote.webelement.WebElement (session=\"a604a8d54112083216bea023db11e635\", element=\"556A795F99D91922F2BE627BBD687274_element_1237\")>,\n <selenium.webdriver.remote.webelement.WebElement (session=\"a604a8d54112083216bea023db11e635\", element=\"556A795F99D91922F2BE627BBD687274_element_1240\")>,\n <selenium.webdriver.remote.webelement.WebElement (session=\"a604a8d54112083216bea023db11e635\", element=\"556A795F99D91922F2BE627BBD687274_element_1243\")>,\n <selenium.webdriver.remote.webelement.WebElement (session=\"a604a8d54112083216bea023db11e635\", element=\"556A795F99D91922F2BE627BBD687274_element_1246\")>,\n <selenium.webdriver.remote.webelement.WebElement (session=\"a604a8d54112083216bea023db11e635\", element=\"556A795F99D91922F2BE627BBD687274_element_1249\")>,\n <selenium.webdriver.remote.webelement.WebElement (session=\"a604a8d54112083216bea023db11e635\", element=\"556A795F99D91922F2BE627BBD687274_element_1252\")>,\n <selenium.webdriver.remote.webelement.WebElement (session=\"a604a8d54112083216bea023db11e635\", element=\"556A795F99D91922F2BE627BBD687274_element_1255\")>,\n <selenium.webdriver.remote.webelement.WebElement (session=\"a604a8d54112083216bea023db11e635\", element=\"556A795F99D91922F2BE627BBD687274_element_1258\")>,\n <selenium.webdriver.remote.webelement.WebElement (session=\"a604a8d54112083216bea023db11e635\", element=\"556A795F99D91922F2BE627BBD687274_element_1261\")>,\n <selenium.webdriver.remote.webelement.WebElement (session=\"a604a8d54112083216bea023db11e635\", element=\"556A795F99D91922F2BE627BBD687274_element_1264\")>,\n <selenium.webdriver.remote.webelement.WebElement (session=\"a604a8d54112083216bea023db11e635\", element=\"556A795F99D91922F2BE627BBD687274_element_1267\")>,\n <selenium.webdriver.remote.webelement.WebElement (session=\"a604a8d54112083216bea023db11e635\", element=\"556A795F99D91922F2BE627BBD687274_element_1270\")>]"
     },
     "execution_count": 67,
     "metadata": {},
     "output_type": "execute_result"
    }
   ],
   "source": [
    "\n",
    "        \n"
   ],
   "metadata": {
    "collapsed": false,
    "ExecuteTime": {
     "end_time": "2024-02-04T16:09:23.812322400Z",
     "start_time": "2024-02-04T16:09:23.764448600Z"
    }
   },
   "id": "329f525737a413e5",
   "execution_count": 67
  },
  {
   "cell_type": "code",
   "outputs": [
    {
     "data": {
      "text/plain": "'https://apkcombo.com/microsoft-outlook-lite-email/com.microsoft.outlooklite/'"
     },
     "execution_count": 69,
     "metadata": {},
     "output_type": "execute_result"
    }
   ],
   "source": [
    "re.findall(driver.current_url)"
   ],
   "metadata": {
    "collapsed": false,
    "ExecuteTime": {
     "end_time": "2024-02-04T16:10:56.740363800Z",
     "start_time": "2024-02-04T16:10:56.714434600Z"
    }
   },
   "id": "ec6b3aa30cfff7bc",
   "execution_count": 69
  },
  {
   "cell_type": "code",
   "outputs": [
    {
     "data": {
      "text/plain": "'/com.microsoft.outlooklite/'"
     },
     "execution_count": 77,
     "metadata": {},
     "output_type": "execute_result"
    }
   ],
   "source": [
    "import re\n",
    "url = 'https://apkcombo.com/microsoft-outlook-lite-email/com.microsoft.outlooklite/'\n",
    "\n",
    "# Define a regular expression pattern to extract the desired part\n",
    "pattern = r'/([^/]+)/$'\n",
    "\n",
    "# Use re.search to find the pattern in the URL\n",
    "match = re.search(pattern, url)\n",
    "match.group(0)"
   ],
   "metadata": {
    "collapsed": false,
    "ExecuteTime": {
     "end_time": "2024-02-04T16:18:30.515021900Z",
     "start_time": "2024-02-04T16:18:30.485101100Z"
    }
   },
   "id": "83647f9dbf539049",
   "execution_count": 77
  },
  {
   "cell_type": "code",
   "outputs": [],
   "source": [],
   "metadata": {
    "collapsed": false
   },
   "id": "2385aa05cfedd0aa"
  }
 ],
 "metadata": {
  "kernelspec": {
   "display_name": "Python 3",
   "language": "python",
   "name": "python3"
  },
  "language_info": {
   "codemirror_mode": {
    "name": "ipython",
    "version": 2
   },
   "file_extension": ".py",
   "mimetype": "text/x-python",
   "name": "python",
   "nbconvert_exporter": "python",
   "pygments_lexer": "ipython2",
   "version": "2.7.6"
  }
 },
 "nbformat": 4,
 "nbformat_minor": 5
}
